{
 "cells": [
  {
   "cell_type": "markdown",
   "metadata": {},
   "source": [
    "Student_Name: Season Shrestha\n",
    "ID: 1929904"
   ]
  },
  {
   "cell_type": "raw",
   "metadata": {},
   "source": [
    "Convolutional Neural Networks (CNN):\n",
    "Convolutional Neural Network have been proved to obtain higher accuracy in the field of image recognition as compared to other models such as Recurrent neural network and Deep belief network. The CNN is composed of convolutional layers, pooling layers, ReLU layer, fully connected layers and loss layers. A typical CNN architecture consist of convolutional layers followed by Rectified lhttp://localhost:8888/notebooks/Untitled12.ipynb?kernel_name=python3#inear unit (ReLU), Pooling layer, convolutional layer(s) and connected layer. CNN is different, because it converts the image into multi-dimensional array which makes the trained classifier more sensitive to the positional change unlike the other regular networks.\n",
    "\n",
    "Convolutional Layer:\n",
    "\n",
    "•Convolutional Layer: Named after the convolution operation [In mathematics: convolution is an operation on two function that produces third function which is the convoluted version of the original function].\n",
    "•Kernels: group of neurons, which is small in size but has the same depth as the input\n",
    "•Neurons of kernel are connected to receptive field (small region of input). Since it is inefficient to link all neurons to all previous outputs in the case of inputs if HD image.\n",
    "•Kernel slides across the width and height of the input, extract high level features and produce a 2D activation map\n",
    "•Stacking of the resulted activation maps is the output of a convolutional layer.\n",
    "•Adding convolutional layer over image reduces the size of the image. To overcome the problem padding is used.\n",
    "•Padding – increases size of input data by filling constants around the input. Since the constant is zero, operation is named zero padding.\n",
    "•Pad evenly left and right, if odd column added, adds extra column to the right.\n",
    "•Stride – uses kernel to skip over pixels in an image and does not include them in output, stride parameter determines how many positions to skip\n",
    "•Rectified Linear Units later- applies the activation function max(0,x), increase its non-liner properties\n",
    "\n",
    "Pooling layer:\n",
    "\n",
    "•Reduces the dimension of the representations, reduces the amount of computation \n",
    "•Can control overfitting issues. \n",
    "•Has filter of size 2 x 2 with a stride 2, which reduces the input to a quarter of its original size\n",
    "\n",
    "Loss Layer\n",
    "\n",
    "•Penalizes the network for deviating from the expected output. (PUNISHMENT)\n",
    "•Last layer of network\n",
    "•Softmax function: used for predicting a class from multiple disjunct classes\n",
    "•Sigmoid cross-entropy: predicts multiple independent probabilities\n",
    "\n",
    "Deep Belief Network:\n",
    "•Probabilistic model composed by multiple later of hidden units.\n",
    "•Can also be used to pre-train a deep neural network to improve the quality of the network & can reduce training times.\n",
    "•It can be combined with CNN to obtain convolutional deep belief networks and obtain advantage of both architecture\n",
    "\n"
   ]
  }
 ],
 "metadata": {
  "kernelspec": {
   "display_name": "Python 3",
   "language": "python",
   "name": "python3"
  },
  "language_info": {
   "codemirror_mode": {
    "name": "ipython",
    "version": 3
   },
   "file_extension": ".py",
   "mimetype": "text/x-python",
   "name": "python",
   "nbconvert_exporter": "python",
   "pygments_lexer": "ipython3",
   "version": "3.7.4"
  }
 },
 "nbformat": 4,
 "nbformat_minor": 2
}
